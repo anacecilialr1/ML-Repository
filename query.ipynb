{
 "cells": [
  {
   "cell_type": "code",
   "execution_count": 8,
   "id": "2338e864-10f1-42eb-b505-13c874d0874e",
   "metadata": {
    "execution": {
     "iopub.execute_input": "2025-04-08T08:33:24.732024Z",
     "iopub.status.busy": "2025-04-08T08:33:24.731789Z",
     "iopub.status.idle": "2025-04-08T08:33:24.734437Z",
     "shell.execute_reply": "2025-04-08T08:33:24.734009Z",
     "shell.execute_reply.started": "2025-04-08T08:33:24.732007Z"
    }
   },
   "outputs": [],
   "source": [
    "from astroquery.gaia import Gaia"
   ]
  },
  {
   "cell_type": "code",
   "execution_count": 9,
   "id": "47580443-7d88-41c1-9a55-069a431c5d98",
   "metadata": {
    "execution": {
     "iopub.execute_input": "2025-04-08T08:33:25.126311Z",
     "iopub.status.busy": "2025-04-08T08:33:25.125935Z",
     "iopub.status.idle": "2025-04-08T08:33:25.130867Z",
     "shell.execute_reply": "2025-04-08T08:33:25.128932Z",
     "shell.execute_reply.started": "2025-04-08T08:33:25.126278Z"
    }
   },
   "outputs": [],
   "source": [
    "# Gaia.MAIN_GAIA_TABLE = \"gaiadr3.gaia_source\""
   ]
  },
  {
   "cell_type": "code",
   "execution_count": 37,
   "id": "f146ea01-1989-489e-8421-838400c9de2b",
   "metadata": {
    "execution": {
     "iopub.execute_input": "2025-04-08T09:36:12.564392Z",
     "iopub.status.busy": "2025-04-08T09:36:12.564075Z",
     "iopub.status.idle": "2025-04-08T09:36:57.815528Z",
     "shell.execute_reply": "2025-04-08T09:36:57.815006Z",
     "shell.execute_reply.started": "2025-04-08T09:36:12.564373Z"
    }
   },
   "outputs": [
    {
     "name": "stdout",
     "output_type": "stream",
     "text": [
      "INFO: Query finished. [astroquery.utils.tap.core]\n"
     ]
    },
    {
     "data": {
      "text/html": [
       "<div><i>Table length=1000</i>\n",
       "<table id=\"table139771566315936\" class=\"table-striped table-bordered table-condensed\">\n",
       "<thead><tr><th>SOURCE_ID</th><th>random_index</th><th>ra</th><th>dec</th><th>parallax</th><th>pm</th><th>phot_g_mean_mag</th><th>bp_g</th><th>g_rp</th><th>quasar</th><th>galaxy</th><th>star</th></tr></thead>\n",
       "<thead><tr><th></th><th></th><th>deg</th><th>deg</th><th>mas</th><th>mas / yr</th><th>mag</th><th>mag</th><th>mag</th><th></th><th></th><th></th></tr></thead>\n",
       "<thead><tr><th>int64</th><th>int64</th><th>float64</th><th>float64</th><th>float64</th><th>float32</th><th>float32</th><th>float32</th><th>float32</th><th>float32</th><th>float32</th><th>float32</th></tr></thead>\n",
       "<tr><td>1265515347877933440</td><td>10075</td><td>222.2748877964174</td><td>22.198160757624645</td><td>-0.33668980134029775</td><td>0.7173173</td><td>17.933859</td><td>-2.318183</td><td>3.621396</td><td>2.2420623e-11</td><td>1.0</td><td>1.0961916e-10</td></tr>\n",
       "<tr><td>5361196917262946432</td><td>15072</td><td>162.2255880878679</td><td>-49.75239367222261</td><td>-0.03670704081825209</td><td>5.728018</td><td>19.842285</td><td>-2.7583504</td><td>4.355935</td><td>9.393035e-12</td><td>0.9991883</td><td>0.0008117138</td></tr>\n",
       "<tr><td>1232222032709253760</td><td>21887</td><td>214.14998079670747</td><td>16.513552038185832</td><td>1.771743674736804</td><td>2.9129527</td><td>20.476004</td><td>-1.0306759</td><td>2.3467827</td><td>2.140544e-05</td><td>0.9999388</td><td>3.978026e-05</td></tr>\n",
       "<tr><td>2036211254522971136</td><td>31435</td><td>288.127523847601</td><td>26.28806110552507</td><td>-0.2814277361136858</td><td>5.7879395</td><td>20.34236</td><td>--</td><td>--</td><td>3.905006e-32</td><td>0.99990237</td><td>9.763462e-05</td></tr>\n",
       "<tr><td>1508859364417098624</td><td>48386</td><td>210.6647188658992</td><td>46.20634448793206</td><td>-0.2998018859774316</td><td>0.6104444</td><td>18.904287</td><td>-1.698452</td><td>2.9888058</td><td>6.760223e-08</td><td>0.9999999</td><td>2.4985818e-08</td></tr>\n",
       "<tr><td>1253126291374182656</td><td>54587</td><td>215.17304544205666</td><td>23.28879425028681</td><td>2.060774528752372</td><td>1.5780792</td><td>20.62693</td><td>-0.9972191</td><td>2.4398327</td><td>0.00013327254</td><td>0.9997067</td><td>0.0001600439</td></tr>\n",
       "<tr><td>...</td><td>...</td><td>...</td><td>...</td><td>...</td><td>...</td><td>...</td><td>...</td><td>...</td><td>...</td><td>...</td><td>...</td></tr>\n",
       "<tr><td>4141678302601679744</td><td>9212272</td><td>260.4219029044651</td><td>-12.648981701285797</td><td>-0.22512781411880234</td><td>5.5833592</td><td>20.370205</td><td>--</td><td>--</td><td>4.0550392e-17</td><td>0.99968445</td><td>0.00031557598</td></tr>\n",
       "<tr><td>4831103085694606592</td><td>9214294</td><td>62.64845895025163</td><td>-47.839020809146476</td><td>0.5386071266597092</td><td>1.567168</td><td>20.089935</td><td>-1.1500835</td><td>2.6817436</td><td>0.00027728127</td><td>0.9996715</td><td>5.1184048e-05</td></tr>\n",
       "<tr><td>1085756329293119104</td><td>9228790</td><td>112.43743174771</td><td>59.053222487495816</td><td>0.3016044940799525</td><td>1.9072616</td><td>20.087564</td><td>-0.99302673</td><td>2.502798</td><td>6.8357236e-05</td><td>0.9999199</td><td>1.1740191e-05</td></tr>\n",
       "<tr><td>1341656459382574464</td><td>9230001</td><td>259.3044698428154</td><td>39.670938025790754</td><td>-1.2745839174842122</td><td>1.7490015</td><td>19.768738</td><td>-1.2398491</td><td>2.672739</td><td>6.6637926e-06</td><td>0.99999124</td><td>2.1225956e-06</td></tr>\n",
       "<tr><td>862780250261757952</td><td>9235423</td><td>172.0178914491828</td><td>61.966127844016704</td><td>-0.010279466286885253</td><td>0.38302395</td><td>18.986042</td><td>-1.5267487</td><td>2.8569412</td><td>2.1328914e-07</td><td>0.99999976</td><td>4.4587928e-08</td></tr>\n",
       "<tr><td>3586355592615599360</td><td>9252064</td><td>172.1491232844336</td><td>-12.004580780761112</td><td>0.18592107403374522</td><td>2.571672</td><td>20.253828</td><td>-0.8543911</td><td>2.316309</td><td>0.00017737149</td><td>0.99973935</td><td>8.327089e-05</td></tr>\n",
       "</table></div>"
      ],
      "text/plain": [
       "<Table length=1000>\n",
       "     SOURCE_ID      random_index ...   galaxy        star    \n",
       "                                 ...                         \n",
       "       int64           int64     ...  float32      float32   \n",
       "------------------- ------------ ... ---------- -------------\n",
       "1265515347877933440        10075 ...        1.0 1.0961916e-10\n",
       "5361196917262946432        15072 ...  0.9991883  0.0008117138\n",
       "1232222032709253760        21887 ...  0.9999388  3.978026e-05\n",
       "2036211254522971136        31435 ... 0.99990237  9.763462e-05\n",
       "1508859364417098624        48386 ...  0.9999999 2.4985818e-08\n",
       "1253126291374182656        54587 ...  0.9997067  0.0001600439\n",
       "                ...          ... ...        ...           ...\n",
       "4141678302601679744      9212272 ... 0.99968445 0.00031557598\n",
       "4831103085694606592      9214294 ...  0.9996715 5.1184048e-05\n",
       "1085756329293119104      9228790 ...  0.9999199 1.1740191e-05\n",
       "1341656459382574464      9230001 ... 0.99999124 2.1225956e-06\n",
       " 862780250261757952      9235423 ... 0.99999976 4.4587928e-08\n",
       "3586355592615599360      9252064 ... 0.99973935  8.327089e-05"
      ]
     },
     "execution_count": 37,
     "metadata": {},
     "output_type": "execute_result"
    }
   ],
   "source": [
    "query_galaxy = \"SELECT TOP 1000 dr3.source_id, dr3.random_index, dr3.ra, dr3.dec, dr3.parallax, dr3.pm, dr3.phot_g_mean_mag, dr3.bp_g, dr3.g_rp,\\\n",
    "                p.classprob_dsc_allosmod_quasar AS quasar, p.classprob_dsc_allosmod_galaxy AS galaxy,\\\n",
    "                p.classprob_dsc_allosmod_star AS star\\\n",
    "        FROM gaiadr3.gaia_source as dr3\\\n",
    "        LEFT JOIN gaiadr3.astrophysical_parameters AS p USING (source_id)\\\n",
    "        WHERE dr3.parallax is not null\\\n",
    "        AND dr3.pm is not null\\\n",
    "        AND p.classprob_dsc_allosmod_galaxy > 0.999\\\n",
    "        AND dr3.phot_g_mean_mag > 14.5\\\n",
    "        ORDER BY dr3.random_index\"\n",
    "\n",
    "# query = \"SELECT dr3.source_id, p.classlabel_espels\\\n",
    "#         FROM gaiadr3.gaia_source AS dr3\\\n",
    "#         LEFT JOIN gaiadr3.astrophysical_parameters AS p USING (source_id)\\\n",
    "#         WHERE p.classlabel_espels IS NOT NULL\\\n",
    "#         AND random_index between 0 and 100000000\"\n",
    "\n",
    "\n",
    "job = Gaia.launch_job_async(query)\n",
    "\n",
    "gtable = job.get_results()\n",
    "gtable"
   ]
  },
  {
   "cell_type": "code",
   "execution_count": null,
   "id": "10961bba-9b6f-4dd5-bce9-2525e53b826a",
   "metadata": {},
   "outputs": [],
   "source": []
  },
  {
   "cell_type": "code",
   "execution_count": 34,
   "id": "1c1d7775-5e17-4df0-b1fc-ec77147e4248",
   "metadata": {
    "execution": {
     "iopub.execute_input": "2025-04-08T09:17:52.273197Z",
     "iopub.status.busy": "2025-04-08T09:17:52.272905Z",
     "iopub.status.idle": "2025-04-08T09:17:52.276076Z",
     "shell.execute_reply": "2025-04-08T09:17:52.275591Z",
     "shell.execute_reply.started": "2025-04-08T09:17:52.273181Z"
    }
   },
   "outputs": [],
   "source": [
    "data = gtable"
   ]
  },
  {
   "cell_type": "code",
   "execution_count": 35,
   "id": "01ecc159-ee8c-4fbf-a2b5-3d6f00af31d3",
   "metadata": {
    "execution": {
     "iopub.execute_input": "2025-04-08T09:17:52.536272Z",
     "iopub.status.busy": "2025-04-08T09:17:52.536041Z",
     "iopub.status.idle": "2025-04-08T09:17:52.541254Z",
     "shell.execute_reply": "2025-04-08T09:17:52.540826Z",
     "shell.execute_reply.started": "2025-04-08T09:17:52.536255Z"
    }
   },
   "outputs": [],
   "source": [
    "data = data.to_pandas()"
   ]
  },
  {
   "cell_type": "code",
   "execution_count": 36,
   "id": "767354bf-85ae-4925-b5a6-9f9f138e9384",
   "metadata": {
    "execution": {
     "iopub.execute_input": "2025-04-08T09:17:52.790804Z",
     "iopub.status.busy": "2025-04-08T09:17:52.790572Z",
     "iopub.status.idle": "2025-04-08T09:17:52.886829Z",
     "shell.execute_reply": "2025-04-08T09:17:52.886268Z",
     "shell.execute_reply.started": "2025-04-08T09:17:52.790787Z"
    }
   },
   "outputs": [
    {
     "data": {
      "text/plain": [
       "<matplotlib.collections.PathCollection at 0x7f1f1aa1a5e0>"
      ]
     },
     "execution_count": 36,
     "metadata": {},
     "output_type": "execute_result"
    },
    {
     "data": {
      "image/png": "[encoded data removed]",
      "text/plain": [
       "<Figure size 640x480 with 1 Axes>"
      ]
     },
     "metadata": {},
     "output_type": "display_data"
    }
   ],
   "source": [
    "import matplotlib.pyplot as plt\n",
    "\n",
    "plt.scatter(data['ra'], data['dec'], s = 0.1)"
   ]
  },
  {
   "cell_type": "code",
   "execution_count": 25,
   "id": "d9992700-daea-4cf2-86ed-8b095759773d",
   "metadata": {
    "execution": {
     "iopub.execute_input": "2025-04-08T09:12:22.202992Z",
     "iopub.status.busy": "2025-04-08T09:12:22.202652Z",
     "iopub.status.idle": "2025-04-08T09:12:22.217738Z",
     "shell.execute_reply": "2025-04-08T09:12:22.217006Z",
     "shell.execute_reply.started": "2025-04-08T09:12:22.202963Z"
    }
   },
   "outputs": [],
   "source": [
    "data['classification'] = data[['quasar', 'galaxy', 'star']].idxmax(axis=1, skipna = True)"
   ]
  },
  {
   "cell_type": "code",
   "execution_count": 19,
   "id": "4052ec9c-cb7f-4ae1-81ba-872ec205c2ae",
   "metadata": {
    "execution": {
     "iopub.execute_input": "2025-04-08T09:00:58.254212Z",
     "iopub.status.busy": "2025-04-08T09:00:58.253806Z",
     "iopub.status.idle": "2025-04-08T09:00:58.281037Z",
     "shell.execute_reply": "2025-04-08T09:00:58.280514Z",
     "shell.execute_reply.started": "2025-04-08T09:00:58.254170Z"
    }
   },
   "outputs": [
    {
     "data": {
      "text/html": [
       "<div>\n",
       "<style scoped>\n",
       "    .dataframe tbody tr th:only-of-type {\n",
       "        vertical-align: middle;\n",
       "    }\n",
       "\n",
       "    .dataframe tbody tr th {\n",
       "        vertical-align: top;\n",
       "    }\n",
       "\n",
       "    .dataframe thead th {\n",
       "        text-align: right;\n",
       "    }\n",
       "</style>\n",
       "<table border=\"1\" class=\"dataframe\">\n",
       "  <thead>\n",
       "    <tr style=\"text-align: right;\">\n",
       "      <th></th>\n",
       "      <th>SOURCE_ID</th>\n",
       "      <th>random_index</th>\n",
       "      <th>ra</th>\n",
       "      <th>dec</th>\n",
       "      <th>parallax</th>\n",
       "      <th>pm</th>\n",
       "      <th>phot_g_mean_mag</th>\n",
       "      <th>bp_g</th>\n",
       "      <th>g_rp</th>\n",
       "      <th>quasar</th>\n",
       "      <th>galaxy</th>\n",
       "      <th>star</th>\n",
       "      <th>classification</th>\n",
       "    </tr>\n",
       "  </thead>\n",
       "  <tbody>\n",
       "    <tr>\n",
       "      <th>0</th>\n",
       "      <td>4267180339403392768</td>\n",
       "      <td>0</td>\n",
       "      <td>286.716913</td>\n",
       "      <td>0.276195</td>\n",
       "      <td>1.084924</td>\n",
       "      <td>4.807036</td>\n",
       "      <td>15.244129</td>\n",
       "      <td>0.697942</td>\n",
       "      <td>0.824186</td>\n",
       "      <td>3.234427e-23</td>\n",
       "      <td>3.325311e-14</td>\n",
       "      <td>1.000000</td>\n",
       "      <td>star</td>\n",
       "    </tr>\n",
       "    <tr>\n",
       "      <th>1</th>\n",
       "      <td>5252403815119316480</td>\n",
       "      <td>1</td>\n",
       "      <td>152.625068</td>\n",
       "      <td>-64.267699</td>\n",
       "      <td>0.854356</td>\n",
       "      <td>5.126574</td>\n",
       "      <td>20.906347</td>\n",
       "      <td>0.171606</td>\n",
       "      <td>0.530489</td>\n",
       "      <td>3.233169e-06</td>\n",
       "      <td>1.492212e-08</td>\n",
       "      <td>0.999997</td>\n",
       "      <td>star</td>\n",
       "    </tr>\n",
       "    <tr>\n",
       "      <th>2</th>\n",
       "      <td>1937745177867542656</td>\n",
       "      <td>2</td>\n",
       "      <td>348.434982</td>\n",
       "      <td>43.940704</td>\n",
       "      <td>1.042008</td>\n",
       "      <td>3.773118</td>\n",
       "      <td>20.531225</td>\n",
       "      <td>0.540527</td>\n",
       "      <td>1.108757</td>\n",
       "      <td>8.933041e-08</td>\n",
       "      <td>2.235166e-09</td>\n",
       "      <td>1.000000</td>\n",
       "      <td>star</td>\n",
       "    </tr>\n",
       "    <tr>\n",
       "      <th>3</th>\n",
       "      <td>5971301282285218048</td>\n",
       "      <td>3</td>\n",
       "      <td>252.729717</td>\n",
       "      <td>-37.917215</td>\n",
       "      <td>0.587660</td>\n",
       "      <td>5.458426</td>\n",
       "      <td>20.145899</td>\n",
       "      <td>1.036097</td>\n",
       "      <td>0.970676</td>\n",
       "      <td>3.213972e-10</td>\n",
       "      <td>8.863590e-11</td>\n",
       "      <td>1.000000</td>\n",
       "      <td>star</td>\n",
       "    </tr>\n",
       "    <tr>\n",
       "      <th>4</th>\n",
       "      <td>5953201637243132416</td>\n",
       "      <td>4</td>\n",
       "      <td>260.678787</td>\n",
       "      <td>-44.788772</td>\n",
       "      <td>-0.293376</td>\n",
       "      <td>3.440261</td>\n",
       "      <td>19.787357</td>\n",
       "      <td>0.317444</td>\n",
       "      <td>1.255966</td>\n",
       "      <td>2.265154e-08</td>\n",
       "      <td>4.441385e-08</td>\n",
       "      <td>1.000000</td>\n",
       "      <td>star</td>\n",
       "    </tr>\n",
       "    <tr>\n",
       "      <th>...</th>\n",
       "      <td>...</td>\n",
       "      <td>...</td>\n",
       "      <td>...</td>\n",
       "      <td>...</td>\n",
       "      <td>...</td>\n",
       "      <td>...</td>\n",
       "      <td>...</td>\n",
       "      <td>...</td>\n",
       "      <td>...</td>\n",
       "      <td>...</td>\n",
       "      <td>...</td>\n",
       "      <td>...</td>\n",
       "      <td>...</td>\n",
       "    </tr>\n",
       "    <tr>\n",
       "      <th>759</th>\n",
       "      <td>5067024230512819968</td>\n",
       "      <td>996</td>\n",
       "      <td>37.102334</td>\n",
       "      <td>-30.570566</td>\n",
       "      <td>2.468058</td>\n",
       "      <td>25.715361</td>\n",
       "      <td>19.305634</td>\n",
       "      <td>1.535702</td>\n",
       "      <td>1.233746</td>\n",
       "      <td>2.280320e-10</td>\n",
       "      <td>2.258232e-10</td>\n",
       "      <td>1.000000</td>\n",
       "      <td>star</td>\n",
       "    </tr>\n",
       "    <tr>\n",
       "      <th>760</th>\n",
       "      <td>3245304123813269888</td>\n",
       "      <td>997</td>\n",
       "      <td>59.567373</td>\n",
       "      <td>-5.510030</td>\n",
       "      <td>-0.521269</td>\n",
       "      <td>4.068581</td>\n",
       "      <td>19.644978</td>\n",
       "      <td>0.816336</td>\n",
       "      <td>0.714542</td>\n",
       "      <td>5.417943e-09</td>\n",
       "      <td>1.119331e-08</td>\n",
       "      <td>1.000000</td>\n",
       "      <td>star</td>\n",
       "    </tr>\n",
       "    <tr>\n",
       "      <th>761</th>\n",
       "      <td>4145070880118830848</td>\n",
       "      <td>998</td>\n",
       "      <td>269.647893</td>\n",
       "      <td>-16.630968</td>\n",
       "      <td>0.723663</td>\n",
       "      <td>7.532008</td>\n",
       "      <td>19.788506</td>\n",
       "      <td>1.248718</td>\n",
       "      <td>1.220791</td>\n",
       "      <td>1.048605e-08</td>\n",
       "      <td>1.712328e-10</td>\n",
       "      <td>1.000000</td>\n",
       "      <td>star</td>\n",
       "    </tr>\n",
       "    <tr>\n",
       "      <th>762</th>\n",
       "      <td>1828668775378435584</td>\n",
       "      <td>999</td>\n",
       "      <td>304.750562</td>\n",
       "      <td>20.888681</td>\n",
       "      <td>0.089603</td>\n",
       "      <td>5.676732</td>\n",
       "      <td>18.830008</td>\n",
       "      <td>0.533484</td>\n",
       "      <td>0.659103</td>\n",
       "      <td>5.731686e-10</td>\n",
       "      <td>1.659242e-09</td>\n",
       "      <td>1.000000</td>\n",
       "      <td>star</td>\n",
       "    </tr>\n",
       "    <tr>\n",
       "      <th>763</th>\n",
       "      <td>6026018787672540544</td>\n",
       "      <td>1000</td>\n",
       "      <td>254.214693</td>\n",
       "      <td>-34.190858</td>\n",
       "      <td>1.401033</td>\n",
       "      <td>4.129695</td>\n",
       "      <td>18.925165</td>\n",
       "      <td>0.970146</td>\n",
       "      <td>1.069567</td>\n",
       "      <td>4.799993e-07</td>\n",
       "      <td>7.710550e-08</td>\n",
       "      <td>0.999999</td>\n",
       "      <td>star</td>\n",
       "    </tr>\n",
       "  </tbody>\n",
       "</table>\n",
       "<p>764 rows × 13 columns</p>\n",
       "</div>"
      ],
      "text/plain": [
       "               SOURCE_ID  random_index          ra        dec  parallax  \\\n",
       "0    4267180339403392768             0  286.716913   0.276195  1.084924   \n",
       "1    5252403815119316480             1  152.625068 -64.267699  0.854356   \n",
       "2    1937745177867542656             2  348.434982  43.940704  1.042008   \n",
       "3    5971301282285218048             3  252.729717 -37.917215  0.587660   \n",
       "4    5953201637243132416             4  260.678787 -44.788772 -0.293376   \n",
       "..                   ...           ...         ...        ...       ...   \n",
       "759  5067024230512819968           996   37.102334 -30.570566  2.468058   \n",
       "760  3245304123813269888           997   59.567373  -5.510030 -0.521269   \n",
       "761  4145070880118830848           998  269.647893 -16.630968  0.723663   \n",
       "762  1828668775378435584           999  304.750562  20.888681  0.089603   \n",
       "763  6026018787672540544          1000  254.214693 -34.190858  1.401033   \n",
       "\n",
       "            pm  phot_g_mean_mag      bp_g      g_rp        quasar  \\\n",
       "0     4.807036        15.244129  0.697942  0.824186  3.234427e-23   \n",
       "1     5.126574        20.906347  0.171606  0.530489  3.233169e-06   \n",
       "2     3.773118        20.531225  0.540527  1.108757  8.933041e-08   \n",
       "3     5.458426        20.145899  1.036097  0.970676  3.213972e-10   \n",
       "4     3.440261        19.787357  0.317444  1.255966  2.265154e-08   \n",
       "..         ...              ...       ...       ...           ...   \n",
       "759  25.715361        19.305634  1.535702  1.233746  2.280320e-10   \n",
       "760   4.068581        19.644978  0.816336  0.714542  5.417943e-09   \n",
       "761   7.532008        19.788506  1.248718  1.220791  1.048605e-08   \n",
       "762   5.676732        18.830008  0.533484  0.659103  5.731686e-10   \n",
       "763   4.129695        18.925165  0.970146  1.069567  4.799993e-07   \n",
       "\n",
       "           galaxy      star classification  \n",
       "0    3.325311e-14  1.000000           star  \n",
       "1    1.492212e-08  0.999997           star  \n",
       "2    2.235166e-09  1.000000           star  \n",
       "3    8.863590e-11  1.000000           star  \n",
       "4    4.441385e-08  1.000000           star  \n",
       "..            ...       ...            ...  \n",
       "759  2.258232e-10  1.000000           star  \n",
       "760  1.119331e-08  1.000000           star  \n",
       "761  1.712328e-10  1.000000           star  \n",
       "762  1.659242e-09  1.000000           star  \n",
       "763  7.710550e-08  0.999999           star  \n",
       "\n",
       "[764 rows x 13 columns]"
      ]
     },
     "execution_count": 19,
     "metadata": {},
     "output_type": "execute_result"
    }
   ],
   "source": [
    "data"
   ]
  },
  {
   "cell_type": "code",
   "execution_count": 26,
   "id": "27f47f5b-4c8d-4f66-b845-76e01c4ff409",
   "metadata": {
    "execution": {
     "iopub.execute_input": "2025-04-08T09:12:25.808482Z",
     "iopub.status.busy": "2025-04-08T09:12:25.808258Z",
     "iopub.status.idle": "2025-04-08T09:12:25.815805Z",
     "shell.execute_reply": "2025-04-08T09:12:25.815282Z",
     "shell.execute_reply.started": "2025-04-08T09:12:25.808469Z"
    }
   },
   "outputs": [
    {
     "data": {
      "text/plain": [
       "classification\n",
       "star      73985\n",
       "quasar       91\n",
       "galaxy       52\n",
       "Name: count, dtype: int64"
      ]
     },
     "execution_count": 26,
     "metadata": {},
     "output_type": "execute_result"
    }
   ],
   "source": [
    "data['classification'].value_counts()"
   ]
  },
  {
   "cell_type": "code",
   "execution_count": null,
   "id": "03823afa-6117-4d54-8fe9-2e7f35cc3923",
   "metadata": {},
   "outputs": [],
   "source": []
  }
 ],
 "metadata": {
  "kernelspec": {
   "display_name": "Python 3 (ipykernel)",
   "language": "python",
   "name": "python3"
  },
  "language_info": {
   "codemirror_mode": {
    "name": "ipython",
    "version": 3
   },
   "file_extension": ".py",
   "mimetype": "text/x-python",
   "name": "python",
   "nbconvert_exporter": "python",
   "pygments_lexer": "ipython3",
   "version": "3.9.13"
  }
 },
 "nbformat": 4,
 "nbformat_minor": 5
}
