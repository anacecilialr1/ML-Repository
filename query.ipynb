{
 "cells": [
  {
   "cell_type": "code",
   "execution_count": 1,
   "id": "b2fb1636-b832-4e7d-a4d7-b71e72ea7817",
   "metadata": {
    "execution": {
     "iopub.execute_input": "2025-04-12T13:11:02.787477Z",
     "iopub.status.busy": "2025-04-12T13:11:02.786874Z",
     "iopub.status.idle": "2025-04-12T13:11:03.197317Z",
     "shell.execute_reply": "2025-04-12T13:11:03.196785Z",
     "shell.execute_reply.started": "2025-04-12T13:11:02.787448Z"
    }
   },
   "outputs": [],
   "source": [
    "from astroquery.gaia import Gaia\n",
    "\n",
    "def get_data(query):\n",
    "    job = Gaia.launch_job_async(query)\n",
    "\n",
    "    gtable = job.get_results()\n",
    "\n",
    "    return gtable"
   ]
  },
  {
   "cell_type": "code",
   "execution_count": 2,
   "id": "5b6cdcee-d83c-4e28-9870-e6395bb40dc7",
   "metadata": {
    "execution": {
     "iopub.execute_input": "2025-04-12T13:11:11.281846Z",
     "iopub.status.busy": "2025-04-12T13:11:11.281591Z",
     "iopub.status.idle": "2025-04-12T13:11:11.285450Z",
     "shell.execute_reply": "2025-04-12T13:11:11.285071Z",
     "shell.execute_reply.started": "2025-04-12T13:11:11.281831Z"
    }
   },
   "outputs": [],
   "source": [
    "query_galaxy = \"SELECT TOP 150000 dr3.source_id, dr3.random_index, dr3.ra, dr3.dec, dr3.b, dr3.parallax, dr3.pm, dr3.phot_g_mean_mag, dr3.bp_g, dr3.g_rp,\\\n",
    "                dr3.astrometric_chi2_al, dr3.astrometric_n_good_obs_al, dr3.phot_g_n_obs, dr3.phot_g_mean_flux_over_error,\\\n",
    "                p.classprob_dsc_allosmod_quasar AS quasar, p.classprob_dsc_allosmod_galaxy AS galaxy,\\\n",
    "                p.classprob_dsc_allosmod_star AS star\\\n",
    "        FROM gaiadr3.gaia_source as dr3\\\n",
    "        LEFT JOIN gaiadr3.astrophysical_parameters AS p USING (source_id)\\\n",
    "        WHERE dr3.parallax is not null\\\n",
    "        AND dr3.pm is not null\\\n",
    "        AND dr3.phot_g_mean_mag is not null\\\n",
    "        AND dr3.bp_g is not null\\\n",
    "        AND dr3.g_rp is not null\\\n",
    "        AND dr3.astrometric_chi2_al is not null\\\n",
    "        AND dr3.astrometric_n_good_obs_al is not null\\\n",
    "        AND dr3.phot_g_n_obs is not null\\\n",
    "        AND dr3.phot_g_mean_flux_over_error is not null\\\n",
    "        AND p.classprob_dsc_allosmod_galaxy > 0.999\\\n",
    "        AND dr3.phot_g_mean_mag > 14.5\\\n",
    "        AND 0.3 + 1.1*dr3.bp_g - 0.29*POWER((dr3.bp_g),2) < dr3.g_rp\\\n",
    "        ORDER BY dr3.random_index\"\n",
    "\n",
    "query_quasar = \"SELECT TOP 150000 dr3.source_id, dr3.random_index, dr3.ra, dr3.dec, dr3.b, dr3.parallax, dr3.pm, dr3.phot_g_mean_mag, dr3.bp_g, dr3.g_rp,\\\n",
    "                dr3.astrometric_chi2_al, dr3.astrometric_n_good_obs_al, dr3.phot_g_n_obs, dr3.phot_g_mean_flux_over_error,\\\n",
    "                p.classprob_dsc_allosmod_quasar AS quasar, p.classprob_dsc_allosmod_galaxy AS galaxy,\\\n",
    "                p.classprob_dsc_allosmod_star AS star\\\n",
    "        FROM gaiadr3.gaia_source as dr3\\\n",
    "        LEFT JOIN gaiadr3.astrophysical_parameters AS p USING (source_id)\\\n",
    "        WHERE dr3.parallax is not null\\\n",
    "        AND dr3.pm is not null\\\n",
    "        AND dr3.phot_g_mean_mag is not null\\\n",
    "        AND dr3.bp_g is not null\\\n",
    "        AND dr3.g_rp is not null\\\n",
    "        AND dr3.astrometric_chi2_al is not null\\\n",
    "        AND dr3.astrometric_n_good_obs_al is not null\\\n",
    "        AND dr3.phot_g_n_obs is not null\\\n",
    "        AND dr3.phot_g_mean_flux_over_error is not null\\\n",
    "        AND p.classprob_dsc_allosmod_quasar > 0.999\\\n",
    "        AND dr3.phot_g_mean_mag > 14.5\\\n",
    "        ORDER BY dr3.random_index\"\n",
    "\n",
    "query_star = \"SELECT TOP 150000 dr3.source_id, dr3.random_index, dr3.ra, dr3.dec, dr3.b, dr3.parallax, dr3.pm, dr3.phot_g_mean_mag, dr3.bp_g, dr3.g_rp,\\\n",
    "                dr3.astrometric_chi2_al, dr3.astrometric_n_good_obs_al, dr3.phot_g_n_obs, dr3.phot_g_mean_flux_over_error,\\\n",
    "                p.classprob_dsc_allosmod_quasar AS quasar, p.classprob_dsc_allosmod_galaxy AS galaxy,\\\n",
    "                p.classprob_dsc_allosmod_star AS star\\\n",
    "        FROM gaiadr3.gaia_source as dr3\\\n",
    "        LEFT JOIN gaiadr3.astrophysical_parameters AS p USING (source_id)\\\n",
    "        WHERE dr3.parallax is not null\\\n",
    "        AND dr3.pm is not null\\\n",
    "        AND dr3.phot_g_mean_mag is not null\\\n",
    "        AND dr3.bp_g is not null\\\n",
    "        AND dr3.g_rp is not null\\\n",
    "        AND dr3.astrometric_chi2_al is not null\\\n",
    "        AND dr3.astrometric_n_good_obs_al is not null\\\n",
    "        AND dr3.phot_g_n_obs is not null\\\n",
    "        AND dr3.phot_g_mean_flux_over_error is not null\\\n",
    "        AND p.classprob_dsc_allosmod_star > 0.999\\\n",
    "        AND dr3.phot_g_mean_mag > 14.5\\\n",
    "        ORDER BY dr3.random_index\""
   ]
  },
  {
   "cell_type": "code",
   "execution_count": null,
   "id": "8597c10b-136c-48b8-9b34-c2d8577a2bd7",
   "metadata": {},
   "outputs": [],
   "source": [
    "from astropy.table import Table, vstack\n",
    "\n",
    "data = vstack([get_data(query_galaxy), get_data(query_quasar), get_data(query_star)], join_type='exact')"
   ]
  },
  {
   "cell_type": "code",
   "execution_count": null,
   "id": "ac72c034-3bce-4047-8574-47cfd303db4d",
   "metadata": {},
   "outputs": [],
   "source": [
    "# data.write('data.dat', format='ascii', overwrite=True) "
   ]
  }
 ],
 "metadata": {
  "kernelspec": {
   "display_name": "Python 3 (ipykernel)",
   "language": "python",
   "name": "python3"
  },
  "language_info": {
   "codemirror_mode": {
    "name": "ipython",
    "version": 3
   },
   "file_extension": ".py",
   "mimetype": "text/x-python",
   "name": "python",
   "nbconvert_exporter": "python",
   "pygments_lexer": "ipython3",
   "version": "3.9.13"
  }
 },
 "nbformat": 4,
 "nbformat_minor": 5
}
